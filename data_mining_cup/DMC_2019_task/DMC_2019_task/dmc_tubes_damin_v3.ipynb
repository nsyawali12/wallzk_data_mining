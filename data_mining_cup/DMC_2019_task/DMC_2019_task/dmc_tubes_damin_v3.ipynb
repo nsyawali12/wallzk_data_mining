{
  "nbformat": 4,
  "nbformat_minor": 0,
  "metadata": {
    "colab": {
      "name": "dmc_tubes_damin_v3.ipynb",
      "provenance": []
    },
    "kernelspec": {
      "display_name": "Python 3",
      "name": "python3"
    }
  },
  "cells": [
    {
      "cell_type": "code",
      "metadata": {
        "id": "KxpM2QKykEVO"
      },
      "source": [
        "### Importing Lib \r\n",
        "\r\n",
        "import pandas as pd\r\n",
        "import numpy as np\r\n",
        "import io\r\n",
        "import matplotlib.pyplot as plt\r\n",
        "from matplotlib.pyplot import figure\r\n",
        "import seaborn as sns"
      ],
      "execution_count": 4,
      "outputs": []
    },
    {
      "cell_type": "code",
      "metadata": {
        "colab": {
          "resources": {
            "http://localhost:8080/nbextensions/google.colab/files.js": {
              "data": "Ly8gQ29weXJpZ2h0IDIwMTcgR29vZ2xlIExMQwovLwovLyBMaWNlbnNlZCB1bmRlciB0aGUgQXBhY2hlIExpY2Vuc2UsIFZlcnNpb24gMi4wICh0aGUgIkxpY2Vuc2UiKTsKLy8geW91IG1heSBub3QgdXNlIHRoaXMgZmlsZSBleGNlcHQgaW4gY29tcGxpYW5jZSB3aXRoIHRoZSBMaWNlbnNlLgovLyBZb3UgbWF5IG9idGFpbiBhIGNvcHkgb2YgdGhlIExpY2Vuc2UgYXQKLy8KLy8gICAgICBodHRwOi8vd3d3LmFwYWNoZS5vcmcvbGljZW5zZXMvTElDRU5TRS0yLjAKLy8KLy8gVW5sZXNzIHJlcXVpcmVkIGJ5IGFwcGxpY2FibGUgbGF3IG9yIGFncmVlZCB0byBpbiB3cml0aW5nLCBzb2Z0d2FyZQovLyBkaXN0cmlidXRlZCB1bmRlciB0aGUgTGljZW5zZSBpcyBkaXN0cmlidXRlZCBvbiBhbiAiQVMgSVMiIEJBU0lTLAovLyBXSVRIT1VUIFdBUlJBTlRJRVMgT1IgQ09ORElUSU9OUyBPRiBBTlkgS0lORCwgZWl0aGVyIGV4cHJlc3Mgb3IgaW1wbGllZC4KLy8gU2VlIHRoZSBMaWNlbnNlIGZvciB0aGUgc3BlY2lmaWMgbGFuZ3VhZ2UgZ292ZXJuaW5nIHBlcm1pc3Npb25zIGFuZAovLyBsaW1pdGF0aW9ucyB1bmRlciB0aGUgTGljZW5zZS4KCi8qKgogKiBAZmlsZW92ZXJ2aWV3IEhlbHBlcnMgZm9yIGdvb2dsZS5jb2xhYiBQeXRob24gbW9kdWxlLgogKi8KKGZ1bmN0aW9uKHNjb3BlKSB7CmZ1bmN0aW9uIHNwYW4odGV4dCwgc3R5bGVBdHRyaWJ1dGVzID0ge30pIHsKICBjb25zdCBlbGVtZW50ID0gZG9jdW1lbnQuY3JlYXRlRWxlbWVudCgnc3BhbicpOwogIGVsZW1lbnQudGV4dENvbnRlbnQgPSB0ZXh0OwogIGZvciAoY29uc3Qga2V5IG9mIE9iamVjdC5rZXlzKHN0eWxlQXR0cmlidXRlcykpIHsKICAgIGVsZW1lbnQuc3R5bGVba2V5XSA9IHN0eWxlQXR0cmlidXRlc1trZXldOwogIH0KICByZXR1cm4gZWxlbWVudDsKfQoKLy8gTWF4IG51bWJlciBvZiBieXRlcyB3aGljaCB3aWxsIGJlIHVwbG9hZGVkIGF0IGEgdGltZS4KY29uc3QgTUFYX1BBWUxPQURfU0laRSA9IDEwMCAqIDEwMjQ7CgpmdW5jdGlvbiBfdXBsb2FkRmlsZXMoaW5wdXRJZCwgb3V0cHV0SWQpIHsKICBjb25zdCBzdGVwcyA9IHVwbG9hZEZpbGVzU3RlcChpbnB1dElkLCBvdXRwdXRJZCk7CiAgY29uc3Qgb3V0cHV0RWxlbWVudCA9IGRvY3VtZW50LmdldEVsZW1lbnRCeUlkKG91dHB1dElkKTsKICAvLyBDYWNoZSBzdGVwcyBvbiB0aGUgb3V0cHV0RWxlbWVudCB0byBtYWtlIGl0IGF2YWlsYWJsZSBmb3IgdGhlIG5leHQgY2FsbAogIC8vIHRvIHVwbG9hZEZpbGVzQ29udGludWUgZnJvbSBQeXRob24uCiAgb3V0cHV0RWxlbWVudC5zdGVwcyA9IHN0ZXBzOwoKICByZXR1cm4gX3VwbG9hZEZpbGVzQ29udGludWUob3V0cHV0SWQpOwp9CgovLyBUaGlzIGlzIHJvdWdobHkgYW4gYXN5bmMgZ2VuZXJhdG9yIChub3Qgc3VwcG9ydGVkIGluIHRoZSBicm93c2VyIHlldCksCi8vIHdoZXJlIHRoZXJlIGFyZSBtdWx0aXBsZSBhc3luY2hyb25vdXMgc3RlcHMgYW5kIHRoZSBQeXRob24gc2lkZSBpcyBnb2luZwovLyB0byBwb2xsIGZvciBjb21wbGV0aW9uIG9mIGVhY2ggc3RlcC4KLy8gVGhpcyB1c2VzIGEgUHJvbWlzZSB0byBibG9jayB0aGUgcHl0aG9uIHNpZGUgb24gY29tcGxldGlvbiBvZiBlYWNoIHN0ZXAsCi8vIHRoZW4gcGFzc2VzIHRoZSByZXN1bHQgb2YgdGhlIHByZXZpb3VzIHN0ZXAgYXMgdGhlIGlucHV0IHRvIHRoZSBuZXh0IHN0ZXAuCmZ1bmN0aW9uIF91cGxvYWRGaWxlc0NvbnRpbnVlKG91dHB1dElkKSB7CiAgY29uc3Qgb3V0cHV0RWxlbWVudCA9IGRvY3VtZW50LmdldEVsZW1lbnRCeUlkKG91dHB1dElkKTsKICBjb25zdCBzdGVwcyA9IG91dHB1dEVsZW1lbnQuc3RlcHM7CgogIGNvbnN0IG5leHQgPSBzdGVwcy5uZXh0KG91dHB1dEVsZW1lbnQubGFzdFByb21pc2VWYWx1ZSk7CiAgcmV0dXJuIFByb21pc2UucmVzb2x2ZShuZXh0LnZhbHVlLnByb21pc2UpLnRoZW4oKHZhbHVlKSA9PiB7CiAgICAvLyBDYWNoZSB0aGUgbGFzdCBwcm9taXNlIHZhbHVlIHRvIG1ha2UgaXQgYXZhaWxhYmxlIHRvIHRoZSBuZXh0CiAgICAvLyBzdGVwIG9mIHRoZSBnZW5lcmF0b3IuCiAgICBvdXRwdXRFbGVtZW50Lmxhc3RQcm9taXNlVmFsdWUgPSB2YWx1ZTsKICAgIHJldHVybiBuZXh0LnZhbHVlLnJlc3BvbnNlOwogIH0pOwp9CgovKioKICogR2VuZXJhdG9yIGZ1bmN0aW9uIHdoaWNoIGlzIGNhbGxlZCBiZXR3ZWVuIGVhY2ggYXN5bmMgc3RlcCBvZiB0aGUgdXBsb2FkCiAqIHByb2Nlc3MuCiAqIEBwYXJhbSB7c3RyaW5nfSBpbnB1dElkIEVsZW1lbnQgSUQgb2YgdGhlIGlucHV0IGZpbGUgcGlja2VyIGVsZW1lbnQuCiAqIEBwYXJhbSB7c3RyaW5nfSBvdXRwdXRJZCBFbGVtZW50IElEIG9mIHRoZSBvdXRwdXQgZGlzcGxheS4KICogQHJldHVybiB7IUl0ZXJhYmxlPCFPYmplY3Q+fSBJdGVyYWJsZSBvZiBuZXh0IHN0ZXBzLgogKi8KZnVuY3Rpb24qIHVwbG9hZEZpbGVzU3RlcChpbnB1dElkLCBvdXRwdXRJZCkgewogIGNvbnN0IGlucHV0RWxlbWVudCA9IGRvY3VtZW50LmdldEVsZW1lbnRCeUlkKGlucHV0SWQpOwogIGlucHV0RWxlbWVudC5kaXNhYmxlZCA9IGZhbHNlOwoKICBjb25zdCBvdXRwdXRFbGVtZW50ID0gZG9jdW1lbnQuZ2V0RWxlbWVudEJ5SWQob3V0cHV0SWQpOwogIG91dHB1dEVsZW1lbnQuaW5uZXJIVE1MID0gJyc7CgogIGNvbnN0IHBpY2tlZFByb21pc2UgPSBuZXcgUHJvbWlzZSgocmVzb2x2ZSkgPT4gewogICAgaW5wdXRFbGVtZW50LmFkZEV2ZW50TGlzdGVuZXIoJ2NoYW5nZScsIChlKSA9PiB7CiAgICAgIHJlc29sdmUoZS50YXJnZXQuZmlsZXMpOwogICAgfSk7CiAgfSk7CgogIGNvbnN0IGNhbmNlbCA9IGRvY3VtZW50LmNyZWF0ZUVsZW1lbnQoJ2J1dHRvbicpOwogIGlucHV0RWxlbWVudC5wYXJlbnRFbGVtZW50LmFwcGVuZENoaWxkKGNhbmNlbCk7CiAgY2FuY2VsLnRleHRDb250ZW50ID0gJ0NhbmNlbCB1cGxvYWQnOwogIGNvbnN0IGNhbmNlbFByb21pc2UgPSBuZXcgUHJvbWlzZSgocmVzb2x2ZSkgPT4gewogICAgY2FuY2VsLm9uY2xpY2sgPSAoKSA9PiB7CiAgICAgIHJlc29sdmUobnVsbCk7CiAgICB9OwogIH0pOwoKICAvLyBXYWl0IGZvciB0aGUgdXNlciB0byBwaWNrIHRoZSBmaWxlcy4KICBjb25zdCBmaWxlcyA9IHlpZWxkIHsKICAgIHByb21pc2U6IFByb21pc2UucmFjZShbcGlja2VkUHJvbWlzZSwgY2FuY2VsUHJvbWlzZV0pLAogICAgcmVzcG9uc2U6IHsKICAgICAgYWN0aW9uOiAnc3RhcnRpbmcnLAogICAgfQogIH07CgogIGNhbmNlbC5yZW1vdmUoKTsKCiAgLy8gRGlzYWJsZSB0aGUgaW5wdXQgZWxlbWVudCBzaW5jZSBmdXJ0aGVyIHBpY2tzIGFyZSBub3QgYWxsb3dlZC4KICBpbnB1dEVsZW1lbnQuZGlzYWJsZWQgPSB0cnVlOwoKICBpZiAoIWZpbGVzKSB7CiAgICByZXR1cm4gewogICAgICByZXNwb25zZTogewogICAgICAgIGFjdGlvbjogJ2NvbXBsZXRlJywKICAgICAgfQogICAgfTsKICB9CgogIGZvciAoY29uc3QgZmlsZSBvZiBmaWxlcykgewogICAgY29uc3QgbGkgPSBkb2N1bWVudC5jcmVhdGVFbGVtZW50KCdsaScpOwogICAgbGkuYXBwZW5kKHNwYW4oZmlsZS5uYW1lLCB7Zm9udFdlaWdodDogJ2JvbGQnfSkpOwogICAgbGkuYXBwZW5kKHNwYW4oCiAgICAgICAgYCgke2ZpbGUudHlwZSB8fCAnbi9hJ30pIC0gJHtmaWxlLnNpemV9IGJ5dGVzLCBgICsKICAgICAgICBgbGFzdCBtb2RpZmllZDogJHsKICAgICAgICAgICAgZmlsZS5sYXN0TW9kaWZpZWREYXRlID8gZmlsZS5sYXN0TW9kaWZpZWREYXRlLnRvTG9jYWxlRGF0ZVN0cmluZygpIDoKICAgICAgICAgICAgICAgICAgICAgICAgICAgICAgICAgICAgJ24vYSd9IC0gYCkpOwogICAgY29uc3QgcGVyY2VudCA9IHNwYW4oJzAlIGRvbmUnKTsKICAgIGxpLmFwcGVuZENoaWxkKHBlcmNlbnQpOwoKICAgIG91dHB1dEVsZW1lbnQuYXBwZW5kQ2hpbGQobGkpOwoKICAgIGNvbnN0IGZpbGVEYXRhUHJvbWlzZSA9IG5ldyBQcm9taXNlKChyZXNvbHZlKSA9PiB7CiAgICAgIGNvbnN0IHJlYWRlciA9IG5ldyBGaWxlUmVhZGVyKCk7CiAgICAgIHJlYWRlci5vbmxvYWQgPSAoZSkgPT4gewogICAgICAgIHJlc29sdmUoZS50YXJnZXQucmVzdWx0KTsKICAgICAgfTsKICAgICAgcmVhZGVyLnJlYWRBc0FycmF5QnVmZmVyKGZpbGUpOwogICAgfSk7CiAgICAvLyBXYWl0IGZvciB0aGUgZGF0YSB0byBiZSByZWFkeS4KICAgIGxldCBmaWxlRGF0YSA9IHlpZWxkIHsKICAgICAgcHJvbWlzZTogZmlsZURhdGFQcm9taXNlLAogICAgICByZXNwb25zZTogewogICAgICAgIGFjdGlvbjogJ2NvbnRpbnVlJywKICAgICAgfQogICAgfTsKCiAgICAvLyBVc2UgYSBjaHVua2VkIHNlbmRpbmcgdG8gYXZvaWQgbWVzc2FnZSBzaXplIGxpbWl0cy4gU2VlIGIvNjIxMTU2NjAuCiAgICBsZXQgcG9zaXRpb24gPSAwOwogICAgd2hpbGUgKHBvc2l0aW9uIDwgZmlsZURhdGEuYnl0ZUxlbmd0aCkgewogICAgICBjb25zdCBsZW5ndGggPSBNYXRoLm1pbihmaWxlRGF0YS5ieXRlTGVuZ3RoIC0gcG9zaXRpb24sIE1BWF9QQVlMT0FEX1NJWkUpOwogICAgICBjb25zdCBjaHVuayA9IG5ldyBVaW50OEFycmF5KGZpbGVEYXRhLCBwb3NpdGlvbiwgbGVuZ3RoKTsKICAgICAgcG9zaXRpb24gKz0gbGVuZ3RoOwoKICAgICAgY29uc3QgYmFzZTY0ID0gYnRvYShTdHJpbmcuZnJvbUNoYXJDb2RlLmFwcGx5KG51bGwsIGNodW5rKSk7CiAgICAgIHlpZWxkIHsKICAgICAgICByZXNwb25zZTogewogICAgICAgICAgYWN0aW9uOiAnYXBwZW5kJywKICAgICAgICAgIGZpbGU6IGZpbGUubmFtZSwKICAgICAgICAgIGRhdGE6IGJhc2U2NCwKICAgICAgICB9LAogICAgICB9OwogICAgICBwZXJjZW50LnRleHRDb250ZW50ID0KICAgICAgICAgIGAke01hdGgucm91bmQoKHBvc2l0aW9uIC8gZmlsZURhdGEuYnl0ZUxlbmd0aCkgKiAxMDApfSUgZG9uZWA7CiAgICB9CiAgfQoKICAvLyBBbGwgZG9uZS4KICB5aWVsZCB7CiAgICByZXNwb25zZTogewogICAgICBhY3Rpb246ICdjb21wbGV0ZScsCiAgICB9CiAgfTsKfQoKc2NvcGUuZ29vZ2xlID0gc2NvcGUuZ29vZ2xlIHx8IHt9OwpzY29wZS5nb29nbGUuY29sYWIgPSBzY29wZS5nb29nbGUuY29sYWIgfHwge307CnNjb3BlLmdvb2dsZS5jb2xhYi5fZmlsZXMgPSB7CiAgX3VwbG9hZEZpbGVzLAogIF91cGxvYWRGaWxlc0NvbnRpbnVlLAp9Owp9KShzZWxmKTsK",
              "ok": true,
              "headers": [
                [
                  "content-type",
                  "application/javascript"
                ]
              ],
              "status": 200,
              "status_text": ""
            }
          },
          "base_uri": "https://localhost:8080/",
          "height": 108
        },
        "id": "uOw_vdtfkXrG",
        "outputId": "732e3d7d-4d81-45a8-f735-bc57b4a20f68"
      },
      "source": [
        "from google.colab import files\r\n",
        "uploaded = files.upload()"
      ],
      "execution_count": 5,
      "outputs": [
        {
          "output_type": "display_data",
          "data": {
            "text/html": [
              "\n",
              "     <input type=\"file\" id=\"files-a2659f85-807c-4720-a5bc-9f41a1fa2dd0\" name=\"files[]\" multiple disabled\n",
              "        style=\"border:none\" />\n",
              "     <output id=\"result-a2659f85-807c-4720-a5bc-9f41a1fa2dd0\">\n",
              "      Upload widget is only available when the cell has been executed in the\n",
              "      current browser session. Please rerun this cell to enable.\n",
              "      </output>\n",
              "      <script src=\"/nbextensions/google.colab/files.js\"></script> "
            ],
            "text/plain": [
              "<IPython.core.display.HTML object>"
            ]
          },
          "metadata": {
            "tags": []
          }
        },
        {
          "output_type": "stream",
          "text": [
            "Saving test.csv to test.csv\n",
            "Saving train.csv to train.csv\n"
          ],
          "name": "stdout"
        }
      ]
    },
    {
      "cell_type": "markdown",
      "metadata": {
        "id": "t47npuavPVO3"
      },
      "source": [
        "### Read dataset and make one Column seperated"
      ]
    },
    {
      "cell_type": "code",
      "metadata": {
        "id": "ZNEMzbj4kmn0"
      },
      "source": [
        "df_train = pd.read_csv('train.csv', sep='|')\r\n",
        "df_test = pd.read_csv('test.csv', sep='|')"
      ],
      "execution_count": 6,
      "outputs": []
    },
    {
      "cell_type": "code",
      "metadata": {
        "id": "ii8lp7Aae7ef"
      },
      "source": [
        "# ### Seperate The dataset value with extend the dataset\r\n",
        "# df_train[['trustLevel', 'totalScanTimeInSeconds', 'grandTotal', 'lineItemVoids', 'scansWithoutRegistration', 'quantityModifications', 'scannedLineItemsPerSecond', 'valuePerSecond', 'lineItemVoidsPerPosition', 'fraud']] = df_train['trustLevel|totalScanTimeInSeconds|grandTotal|lineItemVoids|scansWithoutRegistration|quantityModifications|scannedLineItemsPerSecond|valuePerSecond|lineItemVoidsPerPosition|fraud'].str.split(\"|\",expand=True) \r\n",
        "# ### After Extend drop the dataset with the one columns\r\n",
        "# df_train = df_train.drop(['trustLevel|totalScanTimeInSeconds|grandTotal|lineItemVoids|scansWithoutRegistration|quantityModifications|scannedLineItemsPerSecond|valuePerSecond|lineItemVoidsPerPosition|fraud'], axis=1)"
      ],
      "execution_count": 7,
      "outputs": []
    },
    {
      "cell_type": "code",
      "metadata": {
        "id": "_wmkfnCYuEit"
      },
      "source": [
        "df_train = pd.DataFrame(df_train)\r\n",
        "df_test = pd.DataFrame(df_test)"
      ],
      "execution_count": 8,
      "outputs": []
    },
    {
      "cell_type": "code",
      "metadata": {
        "colab": {
          "base_uri": "https://localhost:8080/"
        },
        "id": "0BhN-zF0VMxF",
        "outputId": "7a2cba29-358d-416c-eeaf-68bcd4b48dc1"
      },
      "source": [
        "df_train.info()"
      ],
      "execution_count": 9,
      "outputs": [
        {
          "output_type": "stream",
          "text": [
            "<class 'pandas.core.frame.DataFrame'>\n",
            "RangeIndex: 1879 entries, 0 to 1878\n",
            "Data columns (total 10 columns):\n",
            " #   Column                     Non-Null Count  Dtype  \n",
            "---  ------                     --------------  -----  \n",
            " 0   trustLevel                 1879 non-null   int64  \n",
            " 1   totalScanTimeInSeconds     1879 non-null   int64  \n",
            " 2   grandTotal                 1879 non-null   float64\n",
            " 3   lineItemVoids              1879 non-null   int64  \n",
            " 4   scansWithoutRegistration   1879 non-null   int64  \n",
            " 5   quantityModifications      1879 non-null   int64  \n",
            " 6   scannedLineItemsPerSecond  1879 non-null   float64\n",
            " 7   valuePerSecond             1879 non-null   float64\n",
            " 8   lineItemVoidsPerPosition   1879 non-null   float64\n",
            " 9   fraud                      1879 non-null   int64  \n",
            "dtypes: float64(4), int64(6)\n",
            "memory usage: 146.9 KB\n"
          ],
          "name": "stdout"
        }
      ]
    },
    {
      "cell_type": "code",
      "metadata": {
        "colab": {
          "base_uri": "https://localhost:8080/"
        },
        "id": "qMfcXQ1y6P-w",
        "outputId": "53a73911-0308-427f-f714-05fb2d786b73"
      },
      "source": [
        "df_test.info()"
      ],
      "execution_count": 10,
      "outputs": [
        {
          "output_type": "stream",
          "text": [
            "<class 'pandas.core.frame.DataFrame'>\n",
            "RangeIndex: 498121 entries, 0 to 498120\n",
            "Data columns (total 9 columns):\n",
            " #   Column                     Non-Null Count   Dtype  \n",
            "---  ------                     --------------   -----  \n",
            " 0   trustLevel                 498121 non-null  int64  \n",
            " 1   totalScanTimeInSeconds     498121 non-null  int64  \n",
            " 2   grandTotal                 498121 non-null  float64\n",
            " 3   lineItemVoids              498121 non-null  int64  \n",
            " 4   scansWithoutRegistration   498121 non-null  int64  \n",
            " 5   quantityModifications      498121 non-null  int64  \n",
            " 6   scannedLineItemsPerSecond  498121 non-null  float64\n",
            " 7   valuePerSecond             498121 non-null  float64\n",
            " 8   lineItemVoidsPerPosition   498121 non-null  float64\n",
            "dtypes: float64(4), int64(5)\n",
            "memory usage: 34.2 MB\n"
          ],
          "name": "stdout"
        }
      ]
    },
    {
      "cell_type": "code",
      "metadata": {
        "colab": {
          "base_uri": "https://localhost:8080/",
          "height": 218
        },
        "id": "KJeRPP6Fk1Wd",
        "outputId": "58225482-33a3-4523-9a84-c2fd3811870d"
      },
      "source": [
        "df_train.head()"
      ],
      "execution_count": 11,
      "outputs": [
        {
          "output_type": "execute_result",
          "data": {
            "text/html": [
              "<div>\n",
              "<style scoped>\n",
              "    .dataframe tbody tr th:only-of-type {\n",
              "        vertical-align: middle;\n",
              "    }\n",
              "\n",
              "    .dataframe tbody tr th {\n",
              "        vertical-align: top;\n",
              "    }\n",
              "\n",
              "    .dataframe thead th {\n",
              "        text-align: right;\n",
              "    }\n",
              "</style>\n",
              "<table border=\"1\" class=\"dataframe\">\n",
              "  <thead>\n",
              "    <tr style=\"text-align: right;\">\n",
              "      <th></th>\n",
              "      <th>trustLevel</th>\n",
              "      <th>totalScanTimeInSeconds</th>\n",
              "      <th>grandTotal</th>\n",
              "      <th>lineItemVoids</th>\n",
              "      <th>scansWithoutRegistration</th>\n",
              "      <th>quantityModifications</th>\n",
              "      <th>scannedLineItemsPerSecond</th>\n",
              "      <th>valuePerSecond</th>\n",
              "      <th>lineItemVoidsPerPosition</th>\n",
              "      <th>fraud</th>\n",
              "    </tr>\n",
              "  </thead>\n",
              "  <tbody>\n",
              "    <tr>\n",
              "      <th>0</th>\n",
              "      <td>5</td>\n",
              "      <td>1054</td>\n",
              "      <td>54.70</td>\n",
              "      <td>7</td>\n",
              "      <td>0</td>\n",
              "      <td>3</td>\n",
              "      <td>0.027514</td>\n",
              "      <td>0.051898</td>\n",
              "      <td>0.241379</td>\n",
              "      <td>0</td>\n",
              "    </tr>\n",
              "    <tr>\n",
              "      <th>1</th>\n",
              "      <td>3</td>\n",
              "      <td>108</td>\n",
              "      <td>27.36</td>\n",
              "      <td>5</td>\n",
              "      <td>2</td>\n",
              "      <td>4</td>\n",
              "      <td>0.129630</td>\n",
              "      <td>0.253333</td>\n",
              "      <td>0.357143</td>\n",
              "      <td>0</td>\n",
              "    </tr>\n",
              "    <tr>\n",
              "      <th>2</th>\n",
              "      <td>3</td>\n",
              "      <td>1516</td>\n",
              "      <td>62.16</td>\n",
              "      <td>3</td>\n",
              "      <td>10</td>\n",
              "      <td>5</td>\n",
              "      <td>0.008575</td>\n",
              "      <td>0.041003</td>\n",
              "      <td>0.230769</td>\n",
              "      <td>0</td>\n",
              "    </tr>\n",
              "    <tr>\n",
              "      <th>3</th>\n",
              "      <td>6</td>\n",
              "      <td>1791</td>\n",
              "      <td>92.31</td>\n",
              "      <td>8</td>\n",
              "      <td>4</td>\n",
              "      <td>4</td>\n",
              "      <td>0.016192</td>\n",
              "      <td>0.051541</td>\n",
              "      <td>0.275862</td>\n",
              "      <td>0</td>\n",
              "    </tr>\n",
              "    <tr>\n",
              "      <th>4</th>\n",
              "      <td>5</td>\n",
              "      <td>430</td>\n",
              "      <td>81.53</td>\n",
              "      <td>3</td>\n",
              "      <td>7</td>\n",
              "      <td>2</td>\n",
              "      <td>0.062791</td>\n",
              "      <td>0.189605</td>\n",
              "      <td>0.111111</td>\n",
              "      <td>0</td>\n",
              "    </tr>\n",
              "  </tbody>\n",
              "</table>\n",
              "</div>"
            ],
            "text/plain": [
              "   trustLevel  totalScanTimeInSeconds  ...  lineItemVoidsPerPosition  fraud\n",
              "0           5                    1054  ...                  0.241379      0\n",
              "1           3                     108  ...                  0.357143      0\n",
              "2           3                    1516  ...                  0.230769      0\n",
              "3           6                    1791  ...                  0.275862      0\n",
              "4           5                     430  ...                  0.111111      0\n",
              "\n",
              "[5 rows x 10 columns]"
            ]
          },
          "metadata": {
            "tags": []
          },
          "execution_count": 11
        }
      ]
    },
    {
      "cell_type": "code",
      "metadata": {
        "colab": {
          "base_uri": "https://localhost:8080/",
          "height": 218
        },
        "id": "kNlQsgEI6bJu",
        "outputId": "f07a6eaa-32df-4627-fb92-c57e0ff15b7e"
      },
      "source": [
        "df_test.head()"
      ],
      "execution_count": 12,
      "outputs": [
        {
          "output_type": "execute_result",
          "data": {
            "text/html": [
              "<div>\n",
              "<style scoped>\n",
              "    .dataframe tbody tr th:only-of-type {\n",
              "        vertical-align: middle;\n",
              "    }\n",
              "\n",
              "    .dataframe tbody tr th {\n",
              "        vertical-align: top;\n",
              "    }\n",
              "\n",
              "    .dataframe thead th {\n",
              "        text-align: right;\n",
              "    }\n",
              "</style>\n",
              "<table border=\"1\" class=\"dataframe\">\n",
              "  <thead>\n",
              "    <tr style=\"text-align: right;\">\n",
              "      <th></th>\n",
              "      <th>trustLevel</th>\n",
              "      <th>totalScanTimeInSeconds</th>\n",
              "      <th>grandTotal</th>\n",
              "      <th>lineItemVoids</th>\n",
              "      <th>scansWithoutRegistration</th>\n",
              "      <th>quantityModifications</th>\n",
              "      <th>scannedLineItemsPerSecond</th>\n",
              "      <th>valuePerSecond</th>\n",
              "      <th>lineItemVoidsPerPosition</th>\n",
              "    </tr>\n",
              "  </thead>\n",
              "  <tbody>\n",
              "    <tr>\n",
              "      <th>0</th>\n",
              "      <td>4</td>\n",
              "      <td>467</td>\n",
              "      <td>88.48</td>\n",
              "      <td>4</td>\n",
              "      <td>8</td>\n",
              "      <td>4</td>\n",
              "      <td>0.014989</td>\n",
              "      <td>0.189465</td>\n",
              "      <td>0.571429</td>\n",
              "    </tr>\n",
              "    <tr>\n",
              "      <th>1</th>\n",
              "      <td>3</td>\n",
              "      <td>1004</td>\n",
              "      <td>58.99</td>\n",
              "      <td>7</td>\n",
              "      <td>6</td>\n",
              "      <td>1</td>\n",
              "      <td>0.026892</td>\n",
              "      <td>0.058755</td>\n",
              "      <td>0.259259</td>\n",
              "    </tr>\n",
              "    <tr>\n",
              "      <th>2</th>\n",
              "      <td>1</td>\n",
              "      <td>162</td>\n",
              "      <td>14.00</td>\n",
              "      <td>4</td>\n",
              "      <td>5</td>\n",
              "      <td>4</td>\n",
              "      <td>0.006173</td>\n",
              "      <td>0.086420</td>\n",
              "      <td>4.000000</td>\n",
              "    </tr>\n",
              "    <tr>\n",
              "      <th>3</th>\n",
              "      <td>5</td>\n",
              "      <td>532</td>\n",
              "      <td>84.79</td>\n",
              "      <td>9</td>\n",
              "      <td>3</td>\n",
              "      <td>4</td>\n",
              "      <td>0.026316</td>\n",
              "      <td>0.159380</td>\n",
              "      <td>0.642857</td>\n",
              "    </tr>\n",
              "    <tr>\n",
              "      <th>4</th>\n",
              "      <td>5</td>\n",
              "      <td>890</td>\n",
              "      <td>42.16</td>\n",
              "      <td>4</td>\n",
              "      <td>0</td>\n",
              "      <td>0</td>\n",
              "      <td>0.021348</td>\n",
              "      <td>0.047371</td>\n",
              "      <td>0.210526</td>\n",
              "    </tr>\n",
              "  </tbody>\n",
              "</table>\n",
              "</div>"
            ],
            "text/plain": [
              "   trustLevel  totalScanTimeInSeconds  ...  valuePerSecond  lineItemVoidsPerPosition\n",
              "0           4                     467  ...        0.189465                  0.571429\n",
              "1           3                    1004  ...        0.058755                  0.259259\n",
              "2           1                     162  ...        0.086420                  4.000000\n",
              "3           5                     532  ...        0.159380                  0.642857\n",
              "4           5                     890  ...        0.047371                  0.210526\n",
              "\n",
              "[5 rows x 9 columns]"
            ]
          },
          "metadata": {
            "tags": []
          },
          "execution_count": 12
        }
      ]
    },
    {
      "cell_type": "code",
      "metadata": {
        "colab": {
          "base_uri": "https://localhost:8080/"
        },
        "id": "2psZeyM-fBIX",
        "outputId": "f0123b57-1925-435f-891f-045f3f19a209"
      },
      "source": [
        "df_train.isnull().sum()"
      ],
      "execution_count": 13,
      "outputs": [
        {
          "output_type": "execute_result",
          "data": {
            "text/plain": [
              "trustLevel                   0\n",
              "totalScanTimeInSeconds       0\n",
              "grandTotal                   0\n",
              "lineItemVoids                0\n",
              "scansWithoutRegistration     0\n",
              "quantityModifications        0\n",
              "scannedLineItemsPerSecond    0\n",
              "valuePerSecond               0\n",
              "lineItemVoidsPerPosition     0\n",
              "fraud                        0\n",
              "dtype: int64"
            ]
          },
          "metadata": {
            "tags": []
          },
          "execution_count": 13
        }
      ]
    },
    {
      "cell_type": "code",
      "metadata": {
        "colab": {
          "base_uri": "https://localhost:8080/"
        },
        "id": "twY43m6s6s_a",
        "outputId": "c7f7bf39-11b8-45a1-b4ad-59cd9d50a48e"
      },
      "source": [
        "df_test.isnull().sum()"
      ],
      "execution_count": 14,
      "outputs": [
        {
          "output_type": "execute_result",
          "data": {
            "text/plain": [
              "trustLevel                   0\n",
              "totalScanTimeInSeconds       0\n",
              "grandTotal                   0\n",
              "lineItemVoids                0\n",
              "scansWithoutRegistration     0\n",
              "quantityModifications        0\n",
              "scannedLineItemsPerSecond    0\n",
              "valuePerSecond               0\n",
              "lineItemVoidsPerPosition     0\n",
              "dtype: int64"
            ]
          },
          "metadata": {
            "tags": []
          },
          "execution_count": 14
        }
      ]
    },
    {
      "cell_type": "markdown",
      "metadata": {
        "id": "8eYisfyvam3W"
      },
      "source": [
        "### Preprocessing Using PCA\r\n",
        "\r\n"
      ]
    },
    {
      "cell_type": "code",
      "metadata": {
        "id": "rRZmSiaI8gF_"
      },
      "source": [
        "from sklearn import preprocessing\r\n",
        "from sklearn.preprocessing import StandardScaler\r\n",
        "\r\n",
        "model_features = ['trustLevel', 'totalScanTimeInSeconds', 'grandTotal', \r\n",
        "                  'lineItemVoids', 'scansWithoutRegistration', 'quantityModifications',\r\n",
        "                  'scannedLineItemsPerSecond', 'valuePerSecond', 'lineItemVoidsPerPosition']"
      ],
      "execution_count": 15,
      "outputs": []
    },
    {
      "cell_type": "code",
      "metadata": {
        "id": "ffVgplNkZq7W"
      },
      "source": [
        "df_x = df_train.loc[:, model_features].values\r\n",
        "df_y = df_train.loc[:, ['fraud']].values\r\n",
        "dtest_x = df_test.loc[:, model_features].values\r\n"
      ],
      "execution_count": 16,
      "outputs": []
    },
    {
      "cell_type": "code",
      "metadata": {
        "colab": {
          "base_uri": "https://localhost:8080/",
          "height": 407
        },
        "id": "TgOHSMBwjisP",
        "outputId": "4b1cb1d4-fc6a-4d81-92f5-bb4f5d5a3f32"
      },
      "source": [
        "df_x = pd.DataFrame(df_x)\r\n",
        "df_x"
      ],
      "execution_count": 17,
      "outputs": [
        {
          "output_type": "execute_result",
          "data": {
            "text/html": [
              "<div>\n",
              "<style scoped>\n",
              "    .dataframe tbody tr th:only-of-type {\n",
              "        vertical-align: middle;\n",
              "    }\n",
              "\n",
              "    .dataframe tbody tr th {\n",
              "        vertical-align: top;\n",
              "    }\n",
              "\n",
              "    .dataframe thead th {\n",
              "        text-align: right;\n",
              "    }\n",
              "</style>\n",
              "<table border=\"1\" class=\"dataframe\">\n",
              "  <thead>\n",
              "    <tr style=\"text-align: right;\">\n",
              "      <th></th>\n",
              "      <th>0</th>\n",
              "      <th>1</th>\n",
              "      <th>2</th>\n",
              "      <th>3</th>\n",
              "      <th>4</th>\n",
              "      <th>5</th>\n",
              "      <th>6</th>\n",
              "      <th>7</th>\n",
              "      <th>8</th>\n",
              "    </tr>\n",
              "  </thead>\n",
              "  <tbody>\n",
              "    <tr>\n",
              "      <th>0</th>\n",
              "      <td>5.0</td>\n",
              "      <td>1054.0</td>\n",
              "      <td>54.70</td>\n",
              "      <td>7.0</td>\n",
              "      <td>0.0</td>\n",
              "      <td>3.0</td>\n",
              "      <td>0.027514</td>\n",
              "      <td>0.051898</td>\n",
              "      <td>0.241379</td>\n",
              "    </tr>\n",
              "    <tr>\n",
              "      <th>1</th>\n",
              "      <td>3.0</td>\n",
              "      <td>108.0</td>\n",
              "      <td>27.36</td>\n",
              "      <td>5.0</td>\n",
              "      <td>2.0</td>\n",
              "      <td>4.0</td>\n",
              "      <td>0.129630</td>\n",
              "      <td>0.253333</td>\n",
              "      <td>0.357143</td>\n",
              "    </tr>\n",
              "    <tr>\n",
              "      <th>2</th>\n",
              "      <td>3.0</td>\n",
              "      <td>1516.0</td>\n",
              "      <td>62.16</td>\n",
              "      <td>3.0</td>\n",
              "      <td>10.0</td>\n",
              "      <td>5.0</td>\n",
              "      <td>0.008575</td>\n",
              "      <td>0.041003</td>\n",
              "      <td>0.230769</td>\n",
              "    </tr>\n",
              "    <tr>\n",
              "      <th>3</th>\n",
              "      <td>6.0</td>\n",
              "      <td>1791.0</td>\n",
              "      <td>92.31</td>\n",
              "      <td>8.0</td>\n",
              "      <td>4.0</td>\n",
              "      <td>4.0</td>\n",
              "      <td>0.016192</td>\n",
              "      <td>0.051541</td>\n",
              "      <td>0.275862</td>\n",
              "    </tr>\n",
              "    <tr>\n",
              "      <th>4</th>\n",
              "      <td>5.0</td>\n",
              "      <td>430.0</td>\n",
              "      <td>81.53</td>\n",
              "      <td>3.0</td>\n",
              "      <td>7.0</td>\n",
              "      <td>2.0</td>\n",
              "      <td>0.062791</td>\n",
              "      <td>0.189605</td>\n",
              "      <td>0.111111</td>\n",
              "    </tr>\n",
              "    <tr>\n",
              "      <th>...</th>\n",
              "      <td>...</td>\n",
              "      <td>...</td>\n",
              "      <td>...</td>\n",
              "      <td>...</td>\n",
              "      <td>...</td>\n",
              "      <td>...</td>\n",
              "      <td>...</td>\n",
              "      <td>...</td>\n",
              "      <td>...</td>\n",
              "    </tr>\n",
              "    <tr>\n",
              "      <th>1874</th>\n",
              "      <td>1.0</td>\n",
              "      <td>321.0</td>\n",
              "      <td>76.03</td>\n",
              "      <td>8.0</td>\n",
              "      <td>7.0</td>\n",
              "      <td>2.0</td>\n",
              "      <td>0.071651</td>\n",
              "      <td>0.236854</td>\n",
              "      <td>0.347826</td>\n",
              "    </tr>\n",
              "    <tr>\n",
              "      <th>1875</th>\n",
              "      <td>1.0</td>\n",
              "      <td>397.0</td>\n",
              "      <td>41.89</td>\n",
              "      <td>5.0</td>\n",
              "      <td>5.0</td>\n",
              "      <td>0.0</td>\n",
              "      <td>0.065491</td>\n",
              "      <td>0.105516</td>\n",
              "      <td>0.192308</td>\n",
              "    </tr>\n",
              "    <tr>\n",
              "      <th>1876</th>\n",
              "      <td>4.0</td>\n",
              "      <td>316.0</td>\n",
              "      <td>41.83</td>\n",
              "      <td>5.0</td>\n",
              "      <td>8.0</td>\n",
              "      <td>1.0</td>\n",
              "      <td>0.094937</td>\n",
              "      <td>0.132373</td>\n",
              "      <td>0.166667</td>\n",
              "    </tr>\n",
              "    <tr>\n",
              "      <th>1877</th>\n",
              "      <td>2.0</td>\n",
              "      <td>685.0</td>\n",
              "      <td>62.68</td>\n",
              "      <td>1.0</td>\n",
              "      <td>6.0</td>\n",
              "      <td>2.0</td>\n",
              "      <td>0.035036</td>\n",
              "      <td>0.091504</td>\n",
              "      <td>0.041667</td>\n",
              "    </tr>\n",
              "    <tr>\n",
              "      <th>1878</th>\n",
              "      <td>4.0</td>\n",
              "      <td>1140.0</td>\n",
              "      <td>38.03</td>\n",
              "      <td>2.0</td>\n",
              "      <td>2.0</td>\n",
              "      <td>3.0</td>\n",
              "      <td>0.016667</td>\n",
              "      <td>0.033360</td>\n",
              "      <td>0.105263</td>\n",
              "    </tr>\n",
              "  </tbody>\n",
              "</table>\n",
              "<p>1879 rows × 9 columns</p>\n",
              "</div>"
            ],
            "text/plain": [
              "        0       1      2    3     4    5         6         7         8\n",
              "0     5.0  1054.0  54.70  7.0   0.0  3.0  0.027514  0.051898  0.241379\n",
              "1     3.0   108.0  27.36  5.0   2.0  4.0  0.129630  0.253333  0.357143\n",
              "2     3.0  1516.0  62.16  3.0  10.0  5.0  0.008575  0.041003  0.230769\n",
              "3     6.0  1791.0  92.31  8.0   4.0  4.0  0.016192  0.051541  0.275862\n",
              "4     5.0   430.0  81.53  3.0   7.0  2.0  0.062791  0.189605  0.111111\n",
              "...   ...     ...    ...  ...   ...  ...       ...       ...       ...\n",
              "1874  1.0   321.0  76.03  8.0   7.0  2.0  0.071651  0.236854  0.347826\n",
              "1875  1.0   397.0  41.89  5.0   5.0  0.0  0.065491  0.105516  0.192308\n",
              "1876  4.0   316.0  41.83  5.0   8.0  1.0  0.094937  0.132373  0.166667\n",
              "1877  2.0   685.0  62.68  1.0   6.0  2.0  0.035036  0.091504  0.041667\n",
              "1878  4.0  1140.0  38.03  2.0   2.0  3.0  0.016667  0.033360  0.105263\n",
              "\n",
              "[1879 rows x 9 columns]"
            ]
          },
          "metadata": {
            "tags": []
          },
          "execution_count": 17
        }
      ]
    },
    {
      "cell_type": "code",
      "metadata": {
        "colab": {
          "base_uri": "https://localhost:8080/",
          "height": 407
        },
        "id": "RbQ1sBvs63E5",
        "outputId": "f2bd3da9-4b3c-4a61-aaa0-b665929719a5"
      },
      "source": [
        "dtest_x = pd.DataFrame(dtest_x)\r\n",
        "dtest_x"
      ],
      "execution_count": 18,
      "outputs": [
        {
          "output_type": "execute_result",
          "data": {
            "text/html": [
              "<div>\n",
              "<style scoped>\n",
              "    .dataframe tbody tr th:only-of-type {\n",
              "        vertical-align: middle;\n",
              "    }\n",
              "\n",
              "    .dataframe tbody tr th {\n",
              "        vertical-align: top;\n",
              "    }\n",
              "\n",
              "    .dataframe thead th {\n",
              "        text-align: right;\n",
              "    }\n",
              "</style>\n",
              "<table border=\"1\" class=\"dataframe\">\n",
              "  <thead>\n",
              "    <tr style=\"text-align: right;\">\n",
              "      <th></th>\n",
              "      <th>0</th>\n",
              "      <th>1</th>\n",
              "      <th>2</th>\n",
              "      <th>3</th>\n",
              "      <th>4</th>\n",
              "      <th>5</th>\n",
              "      <th>6</th>\n",
              "      <th>7</th>\n",
              "      <th>8</th>\n",
              "    </tr>\n",
              "  </thead>\n",
              "  <tbody>\n",
              "    <tr>\n",
              "      <th>0</th>\n",
              "      <td>4.0</td>\n",
              "      <td>467.0</td>\n",
              "      <td>88.48</td>\n",
              "      <td>4.0</td>\n",
              "      <td>8.0</td>\n",
              "      <td>4.0</td>\n",
              "      <td>0.014989</td>\n",
              "      <td>0.189465</td>\n",
              "      <td>0.571429</td>\n",
              "    </tr>\n",
              "    <tr>\n",
              "      <th>1</th>\n",
              "      <td>3.0</td>\n",
              "      <td>1004.0</td>\n",
              "      <td>58.99</td>\n",
              "      <td>7.0</td>\n",
              "      <td>6.0</td>\n",
              "      <td>1.0</td>\n",
              "      <td>0.026892</td>\n",
              "      <td>0.058755</td>\n",
              "      <td>0.259259</td>\n",
              "    </tr>\n",
              "    <tr>\n",
              "      <th>2</th>\n",
              "      <td>1.0</td>\n",
              "      <td>162.0</td>\n",
              "      <td>14.00</td>\n",
              "      <td>4.0</td>\n",
              "      <td>5.0</td>\n",
              "      <td>4.0</td>\n",
              "      <td>0.006173</td>\n",
              "      <td>0.086420</td>\n",
              "      <td>4.000000</td>\n",
              "    </tr>\n",
              "    <tr>\n",
              "      <th>3</th>\n",
              "      <td>5.0</td>\n",
              "      <td>532.0</td>\n",
              "      <td>84.79</td>\n",
              "      <td>9.0</td>\n",
              "      <td>3.0</td>\n",
              "      <td>4.0</td>\n",
              "      <td>0.026316</td>\n",
              "      <td>0.159380</td>\n",
              "      <td>0.642857</td>\n",
              "    </tr>\n",
              "    <tr>\n",
              "      <th>4</th>\n",
              "      <td>5.0</td>\n",
              "      <td>890.0</td>\n",
              "      <td>42.16</td>\n",
              "      <td>4.0</td>\n",
              "      <td>0.0</td>\n",
              "      <td>0.0</td>\n",
              "      <td>0.021348</td>\n",
              "      <td>0.047371</td>\n",
              "      <td>0.210526</td>\n",
              "    </tr>\n",
              "    <tr>\n",
              "      <th>...</th>\n",
              "      <td>...</td>\n",
              "      <td>...</td>\n",
              "      <td>...</td>\n",
              "      <td>...</td>\n",
              "      <td>...</td>\n",
              "      <td>...</td>\n",
              "      <td>...</td>\n",
              "      <td>...</td>\n",
              "      <td>...</td>\n",
              "    </tr>\n",
              "    <tr>\n",
              "      <th>498116</th>\n",
              "      <td>4.0</td>\n",
              "      <td>783.0</td>\n",
              "      <td>59.10</td>\n",
              "      <td>2.0</td>\n",
              "      <td>2.0</td>\n",
              "      <td>0.0</td>\n",
              "      <td>0.012771</td>\n",
              "      <td>0.075479</td>\n",
              "      <td>0.200000</td>\n",
              "    </tr>\n",
              "    <tr>\n",
              "      <th>498117</th>\n",
              "      <td>1.0</td>\n",
              "      <td>278.0</td>\n",
              "      <td>98.90</td>\n",
              "      <td>9.0</td>\n",
              "      <td>5.0</td>\n",
              "      <td>4.0</td>\n",
              "      <td>0.050360</td>\n",
              "      <td>0.355755</td>\n",
              "      <td>0.642857</td>\n",
              "    </tr>\n",
              "    <tr>\n",
              "      <th>498118</th>\n",
              "      <td>3.0</td>\n",
              "      <td>300.0</td>\n",
              "      <td>5.41</td>\n",
              "      <td>6.0</td>\n",
              "      <td>6.0</td>\n",
              "      <td>4.0</td>\n",
              "      <td>0.030000</td>\n",
              "      <td>0.018033</td>\n",
              "      <td>0.666667</td>\n",
              "    </tr>\n",
              "    <tr>\n",
              "      <th>498119</th>\n",
              "      <td>2.0</td>\n",
              "      <td>1524.0</td>\n",
              "      <td>33.97</td>\n",
              "      <td>2.0</td>\n",
              "      <td>5.0</td>\n",
              "      <td>3.0</td>\n",
              "      <td>0.005906</td>\n",
              "      <td>0.022290</td>\n",
              "      <td>0.222222</td>\n",
              "    </tr>\n",
              "    <tr>\n",
              "      <th>498120</th>\n",
              "      <td>3.0</td>\n",
              "      <td>1456.0</td>\n",
              "      <td>56.97</td>\n",
              "      <td>11.0</td>\n",
              "      <td>7.0</td>\n",
              "      <td>2.0</td>\n",
              "      <td>0.019231</td>\n",
              "      <td>0.039128</td>\n",
              "      <td>0.392857</td>\n",
              "    </tr>\n",
              "  </tbody>\n",
              "</table>\n",
              "<p>498121 rows × 9 columns</p>\n",
              "</div>"
            ],
            "text/plain": [
              "          0       1      2     3    4    5         6         7         8\n",
              "0       4.0   467.0  88.48   4.0  8.0  4.0  0.014989  0.189465  0.571429\n",
              "1       3.0  1004.0  58.99   7.0  6.0  1.0  0.026892  0.058755  0.259259\n",
              "2       1.0   162.0  14.00   4.0  5.0  4.0  0.006173  0.086420  4.000000\n",
              "3       5.0   532.0  84.79   9.0  3.0  4.0  0.026316  0.159380  0.642857\n",
              "4       5.0   890.0  42.16   4.0  0.0  0.0  0.021348  0.047371  0.210526\n",
              "...     ...     ...    ...   ...  ...  ...       ...       ...       ...\n",
              "498116  4.0   783.0  59.10   2.0  2.0  0.0  0.012771  0.075479  0.200000\n",
              "498117  1.0   278.0  98.90   9.0  5.0  4.0  0.050360  0.355755  0.642857\n",
              "498118  3.0   300.0   5.41   6.0  6.0  4.0  0.030000  0.018033  0.666667\n",
              "498119  2.0  1524.0  33.97   2.0  5.0  3.0  0.005906  0.022290  0.222222\n",
              "498120  3.0  1456.0  56.97  11.0  7.0  2.0  0.019231  0.039128  0.392857\n",
              "\n",
              "[498121 rows x 9 columns]"
            ]
          },
          "metadata": {
            "tags": []
          },
          "execution_count": 18
        }
      ]
    },
    {
      "cell_type": "code",
      "metadata": {
        "id": "GztJxVFhjhb0"
      },
      "source": [
        "scaler = preprocessing.MinMaxScaler()\r\n",
        "\r\n",
        "x = scaler.fit_transform(df_x)\r\n",
        "x_test = scaler.fit_transform(dtest_x)\r\n",
        "y = df_y"
      ],
      "execution_count": 19,
      "outputs": []
    },
    {
      "cell_type": "code",
      "metadata": {
        "colab": {
          "base_uri": "https://localhost:8080/"
        },
        "id": "a3QmrO8FF39n",
        "outputId": "88b44c6e-02a5-4ba8-ba97-6fa5e56dd608"
      },
      "source": [
        "len(df_y)"
      ],
      "execution_count": 20,
      "outputs": [
        {
          "output_type": "execute_result",
          "data": {
            "text/plain": [
              "1879"
            ]
          },
          "metadata": {
            "tags": []
          },
          "execution_count": 20
        }
      ]
    },
    {
      "cell_type": "code",
      "metadata": {
        "colab": {
          "base_uri": "https://localhost:8080/"
        },
        "id": "decCquHna2SJ",
        "outputId": "52e90746-29c0-4422-dee0-77d9d4726c43"
      },
      "source": [
        "len(x)\r\n"
      ],
      "execution_count": 21,
      "outputs": [
        {
          "output_type": "execute_result",
          "data": {
            "text/plain": [
              "1879"
            ]
          },
          "metadata": {
            "tags": []
          },
          "execution_count": 21
        }
      ]
    },
    {
      "cell_type": "code",
      "metadata": {
        "colab": {
          "base_uri": "https://localhost:8080/"
        },
        "id": "D_-fwNBP7dkY",
        "outputId": "9244dbb9-c875-4a18-ed80-5006e3e9e7ff"
      },
      "source": [
        "len(x_test)"
      ],
      "execution_count": 22,
      "outputs": [
        {
          "output_type": "execute_result",
          "data": {
            "text/plain": [
              "498121"
            ]
          },
          "metadata": {
            "tags": []
          },
          "execution_count": 22
        }
      ]
    },
    {
      "cell_type": "markdown",
      "metadata": {
        "id": "ck1buuWv0m4O"
      },
      "source": [
        "Splitting Data into Training and Validation"
      ]
    },
    {
      "cell_type": "code",
      "metadata": {
        "colab": {
          "base_uri": "https://localhost:8080/"
        },
        "id": "CSqNi9iy7bZK",
        "outputId": "2c482038-e7bd-4369-b803-ac762a43a83b"
      },
      "source": [
        "from sklearn.model_selection import train_test_split\r\n",
        "X_train, X_val, y_train, y_val = train_test_split(x, df_y, test_size=0.25, random_state=42)\r\n",
        "\r\n",
        "print(\"Jumlah Data Train: \", len(X_train))\r\n",
        "print(\"Jumlah Data Train: \", len(X_val))"
      ],
      "execution_count": 23,
      "outputs": [
        {
          "output_type": "stream",
          "text": [
            "Jumlah Data Train:  1409\n",
            "Jumlah Data Train:  470\n"
          ],
          "name": "stdout"
        }
      ]
    },
    {
      "cell_type": "markdown",
      "metadata": {
        "id": "0hxWSno-_4Sp"
      },
      "source": [
        "### Decompose dataset after transfor into 2 Piece of Column"
      ]
    },
    {
      "cell_type": "code",
      "metadata": {
        "colab": {
          "base_uri": "https://localhost:8080/"
        },
        "id": "wRWjA3dVaffX",
        "outputId": "c1a4af61-6bb9-4794-e814-1d871386f9b0"
      },
      "source": [
        "from sklearn.decomposition import PCA\r\n",
        "\r\n",
        "model_pca = PCA(n_components=2)\r\n",
        "model_pca.fit(X_train)\r\n",
        "\r\n",
        "X_train = model_pca.transform(X_train)\r\n",
        "X_val = model_pca.transform(X_val)\r\n",
        "\r\n",
        "# 2-D of X_train and 2-D of X_val\r\n",
        "print(X_train[:5])\r\n",
        "# principalDataframe = pd.DataFrame(data = prisncComponents, columns= ['PCA 1', 'PCA 2'])"
      ],
      "execution_count": 24,
      "outputs": [
        {
          "output_type": "stream",
          "text": [
            "[[-0.53847477 -0.21575208]\n",
            " [-0.21127218  0.25295989]\n",
            " [ 0.38318285 -0.20924678]\n",
            " [ 0.5284145  -0.48539169]\n",
            " [ 0.05425283 -0.51846548]]\n"
          ],
          "name": "stdout"
        }
      ]
    },
    {
      "cell_type": "markdown",
      "metadata": {
        "id": "3TDdmIUT8ICY"
      },
      "source": [
        "### Data test not through the data splitting cause no label yet"
      ]
    },
    {
      "cell_type": "code",
      "metadata": {
        "colab": {
          "base_uri": "https://localhost:8080/"
        },
        "id": "7KJkRBlDBWoS",
        "outputId": "9bc04447-58db-46ce-e6f0-133b66719f7f"
      },
      "source": [
        "print(X_val[:5])"
      ],
      "execution_count": 25,
      "outputs": [
        {
          "output_type": "stream",
          "text": [
            "[[-0.0459549  -0.10165303]\n",
            " [-0.03814947 -0.52335247]\n",
            " [ 0.11693794 -0.32908489]\n",
            " [-0.21580524 -0.46239781]\n",
            " [-0.47771338 -0.00650619]]\n"
          ],
          "name": "stdout"
        }
      ]
    },
    {
      "cell_type": "code",
      "metadata": {
        "id": "LMzbXqYuakmr"
      },
      "source": [
        "# principalDataframe.head(5)"
      ],
      "execution_count": 26,
      "outputs": []
    },
    {
      "cell_type": "code",
      "metadata": {
        "colab": {
          "base_uri": "https://localhost:8080/"
        },
        "id": "adzmEEK9C7TC",
        "outputId": "e85445ef-1d23-42f8-bb35-165c3aec0cf5"
      },
      "source": [
        "X_train = pd.DataFrame(data=X_train, columns=['PCA 1', 'PCA 2'])\r\n",
        "print(X_train)"
      ],
      "execution_count": 27,
      "outputs": [
        {
          "output_type": "stream",
          "text": [
            "         PCA 1     PCA 2\n",
            "0    -0.538475 -0.215752\n",
            "1    -0.211272  0.252960\n",
            "2     0.383183 -0.209247\n",
            "3     0.528415 -0.485392\n",
            "4     0.054253 -0.518465\n",
            "...        ...       ...\n",
            "1404  0.129316  0.319235\n",
            "1405 -0.095490 -0.511467\n",
            "1406  0.511765  0.094394\n",
            "1407  0.222996  0.317036\n",
            "1408  0.218356 -0.176864\n",
            "\n",
            "[1409 rows x 2 columns]\n"
          ],
          "name": "stdout"
        }
      ]
    },
    {
      "cell_type": "code",
      "metadata": {
        "id": "jZlO8JFS9hzx"
      },
      "source": [
        "y_train = pd.DataFrame(data=y_train, columns=['fraud'])"
      ],
      "execution_count": 28,
      "outputs": []
    },
    {
      "cell_type": "code",
      "metadata": {
        "colab": {
          "base_uri": "https://localhost:8080/",
          "height": 407
        },
        "id": "R-TFfWUa9rbj",
        "outputId": "b4a52f06-bc0f-4c34-c9df-7bc970522854"
      },
      "source": [
        "df_finalTrain = pd.concat([X_train, y_train[['fraud']]], axis=1)\r\n",
        "\r\n",
        "df_finalTrain"
      ],
      "execution_count": 29,
      "outputs": [
        {
          "output_type": "execute_result",
          "data": {
            "text/html": [
              "<div>\n",
              "<style scoped>\n",
              "    .dataframe tbody tr th:only-of-type {\n",
              "        vertical-align: middle;\n",
              "    }\n",
              "\n",
              "    .dataframe tbody tr th {\n",
              "        vertical-align: top;\n",
              "    }\n",
              "\n",
              "    .dataframe thead th {\n",
              "        text-align: right;\n",
              "    }\n",
              "</style>\n",
              "<table border=\"1\" class=\"dataframe\">\n",
              "  <thead>\n",
              "    <tr style=\"text-align: right;\">\n",
              "      <th></th>\n",
              "      <th>PCA 1</th>\n",
              "      <th>PCA 2</th>\n",
              "      <th>fraud</th>\n",
              "    </tr>\n",
              "  </thead>\n",
              "  <tbody>\n",
              "    <tr>\n",
              "      <th>0</th>\n",
              "      <td>-0.538475</td>\n",
              "      <td>-0.215752</td>\n",
              "      <td>0</td>\n",
              "    </tr>\n",
              "    <tr>\n",
              "      <th>1</th>\n",
              "      <td>-0.211272</td>\n",
              "      <td>0.252960</td>\n",
              "      <td>0</td>\n",
              "    </tr>\n",
              "    <tr>\n",
              "      <th>2</th>\n",
              "      <td>0.383183</td>\n",
              "      <td>-0.209247</td>\n",
              "      <td>0</td>\n",
              "    </tr>\n",
              "    <tr>\n",
              "      <th>3</th>\n",
              "      <td>0.528415</td>\n",
              "      <td>-0.485392</td>\n",
              "      <td>0</td>\n",
              "    </tr>\n",
              "    <tr>\n",
              "      <th>4</th>\n",
              "      <td>0.054253</td>\n",
              "      <td>-0.518465</td>\n",
              "      <td>0</td>\n",
              "    </tr>\n",
              "    <tr>\n",
              "      <th>...</th>\n",
              "      <td>...</td>\n",
              "      <td>...</td>\n",
              "      <td>...</td>\n",
              "    </tr>\n",
              "    <tr>\n",
              "      <th>1404</th>\n",
              "      <td>0.129316</td>\n",
              "      <td>0.319235</td>\n",
              "      <td>0</td>\n",
              "    </tr>\n",
              "    <tr>\n",
              "      <th>1405</th>\n",
              "      <td>-0.095490</td>\n",
              "      <td>-0.511467</td>\n",
              "      <td>0</td>\n",
              "    </tr>\n",
              "    <tr>\n",
              "      <th>1406</th>\n",
              "      <td>0.511765</td>\n",
              "      <td>0.094394</td>\n",
              "      <td>0</td>\n",
              "    </tr>\n",
              "    <tr>\n",
              "      <th>1407</th>\n",
              "      <td>0.222996</td>\n",
              "      <td>0.317036</td>\n",
              "      <td>0</td>\n",
              "    </tr>\n",
              "    <tr>\n",
              "      <th>1408</th>\n",
              "      <td>0.218356</td>\n",
              "      <td>-0.176864</td>\n",
              "      <td>0</td>\n",
              "    </tr>\n",
              "  </tbody>\n",
              "</table>\n",
              "<p>1409 rows × 3 columns</p>\n",
              "</div>"
            ],
            "text/plain": [
              "         PCA 1     PCA 2  fraud\n",
              "0    -0.538475 -0.215752      0\n",
              "1    -0.211272  0.252960      0\n",
              "2     0.383183 -0.209247      0\n",
              "3     0.528415 -0.485392      0\n",
              "4     0.054253 -0.518465      0\n",
              "...        ...       ...    ...\n",
              "1404  0.129316  0.319235      0\n",
              "1405 -0.095490 -0.511467      0\n",
              "1406  0.511765  0.094394      0\n",
              "1407  0.222996  0.317036      0\n",
              "1408  0.218356 -0.176864      0\n",
              "\n",
              "[1409 rows x 3 columns]"
            ]
          },
          "metadata": {
            "tags": []
          },
          "execution_count": 29
        }
      ]
    },
    {
      "cell_type": "code",
      "metadata": {
        "colab": {
          "base_uri": "https://localhost:8080/",
          "height": 572
        },
        "id": "yGp3Ovzy-HlO",
        "outputId": "a4f8afc0-3917-4215-d1e0-98050738ec5a"
      },
      "source": [
        "figure(num=None, figsize=(8, 8), dpi=80, facecolor='w', edgecolor='k')\r\n",
        "\r\n",
        "frauded = [0, 1]\r\n",
        "colors = ['b', 'g']\r\n",
        "for clas, color in zip(frauded, colors):\r\n",
        "  plt.scatter(df_finalTrain.loc[df_finalTrain['fraud'] == clas, 'PCA 1'],\r\n",
        "              df_finalTrain.loc[df_finalTrain['fraud'] == clas, 'PCA 2'],\r\n",
        "              c = color)\r\n",
        "  \r\n",
        "plt.xlabel('Principal Component 1', fontsize = 12)\r\n",
        "plt.ylabel('Principal Component 2', fontsize = 12)\r\n",
        "plt.title('2D PCA', fontsize = 15)\r\n",
        "plt.legend(['0', '1'])\r\n",
        "plt.grid()"
      ],
      "execution_count": 30,
      "outputs": [
        {
          "output_type": "display_data",
          "data": {
            "image/png": "[encoded data removed]",
            "text/plain": [
              "<Figure size 640x640 with 1 Axes>"
            ]
          },
          "metadata": {
            "tags": []
          }
        }
      ]
    },
    {
      "cell_type": "code",
      "metadata": {
        "colab": {
          "base_uri": "https://localhost:8080/"
        },
        "id": "ZI8XczSSDvjy",
        "outputId": "32ddf68f-e1e8-40d9-8f50-6f349f2d0a8c"
      },
      "source": [
        "X_val = pd.DataFrame(data=X_val, columns=['PCA 1', 'PCA 2'])\r\n",
        "\r\n",
        "print(X_val)"
      ],
      "execution_count": 31,
      "outputs": [
        {
          "output_type": "stream",
          "text": [
            "        PCA 1     PCA 2\n",
            "0   -0.045955 -0.101653\n",
            "1   -0.038149 -0.523352\n",
            "2    0.116938 -0.329085\n",
            "3   -0.215805 -0.462398\n",
            "4   -0.477713 -0.006506\n",
            "..        ...       ...\n",
            "465  0.424646 -0.092326\n",
            "466  0.218368  0.493057\n",
            "467 -0.407014  0.248658\n",
            "468  0.368429 -0.009620\n",
            "469 -0.496980 -0.374134\n",
            "\n",
            "[470 rows x 2 columns]\n"
          ],
          "name": "stdout"
        }
      ]
    },
    {
      "cell_type": "code",
      "metadata": {
        "colab": {
          "base_uri": "https://localhost:8080/"
        },
        "id": "TrbED3GaL-kK",
        "outputId": "770c3119-2018-4808-ea95-ffa9e7f9b6a1"
      },
      "source": [
        "len(y_val)"
      ],
      "execution_count": 32,
      "outputs": [
        {
          "output_type": "execute_result",
          "data": {
            "text/plain": [
              "470"
            ]
          },
          "metadata": {
            "tags": []
          },
          "execution_count": 32
        }
      ]
    },
    {
      "cell_type": "code",
      "metadata": {
        "id": "ZL5U2GnBBbbg"
      },
      "source": [
        "from sklearn.neighbors import KNeighborsClassifier\r\n",
        "from sklearn.metrics import accuracy_score\r\n",
        "#Set the K\r\n",
        "\r\n",
        "k=5\r\n",
        "\r\n",
        "knn_classifier = KNeighborsClassifier(n_neighbors=k)"
      ],
      "execution_count": 33,
      "outputs": []
    },
    {
      "cell_type": "markdown",
      "metadata": {
        "id": "U60B2rJTLY0J"
      },
      "source": [
        "Training & Validation with KNN"
      ]
    },
    {
      "cell_type": "code",
      "metadata": {
        "colab": {
          "base_uri": "https://localhost:8080/"
        },
        "id": "H0WxJ2kBIp_p",
        "outputId": "1c7255e3-3b41-4249-8835-bad74f5ea002"
      },
      "source": [
        "knn_classifier.fit(X_train, y_train)\r\n",
        "print(\"KNN Training Accuracy: \", knn_classifier.score(X_train, y_train))"
      ],
      "execution_count": 34,
      "outputs": [
        {
          "output_type": "stream",
          "text": [
            "KNN Training Accuracy:  0.9474804826117814\n"
          ],
          "name": "stdout"
        },
        {
          "output_type": "stream",
          "text": [
            "/usr/local/lib/python3.6/dist-packages/ipykernel_launcher.py:1: DataConversionWarning: A column-vector y was passed when a 1d array was expected. Please change the shape of y to (n_samples, ), for example using ravel().\n",
            "  \"\"\"Entry point for launching an IPython kernel.\n"
          ],
          "name": "stderr"
        }
      ]
    },
    {
      "cell_type": "code",
      "metadata": {
        "colab": {
          "base_uri": "https://localhost:8080/"
        },
        "id": "aU-6MQx3LWP7",
        "outputId": "f20f7939-92e2-461a-b478-f5a34bf79348"
      },
      "source": [
        "y_pred = knn_classifier.predict(X_val)\r\n",
        "print(\"KNN Validation Accuracy: \", accuracy_score(y_val, y_pred))"
      ],
      "execution_count": 35,
      "outputs": [
        {
          "output_type": "stream",
          "text": [
            "KNN Validation Accuracy:  0.948936170212766\n"
          ],
          "name": "stdout"
        }
      ]
    },
    {
      "cell_type": "markdown",
      "metadata": {
        "id": "C5Jm3Z-n1d8-"
      },
      "source": [
        "Confusion Matrix dari "
      ]
    },
    {
      "cell_type": "code",
      "metadata": {
        "colab": {
          "base_uri": "https://localhost:8080/",
          "height": 938
        },
        "id": "D0cvs4eN1deh",
        "outputId": "2c5aef7e-1b2f-4367-a877-0c0d5b28a069"
      },
      "source": [
        "from sklearn.metrics import plot_confusion_matrix\r\n",
        "from sklearn.metrics import classification_report\r\n",
        "\r\n",
        "\r\n",
        "\r\n",
        "titles_options = [(\"Confusion matrix, without normalization\", None),\r\n",
        "                  (\"Normalized confusion matrix\", 'true')]\r\n",
        "for title, normalize in titles_options:\r\n",
        "    disp = plot_confusion_matrix(knn_classifier, X_val, y_val,\r\n",
        "                                 display_labels=y,\r\n",
        "                                 cmap=plt.cm.Blues,\r\n",
        "                                 normalize=normalize)\r\n",
        "    disp.ax_.set_title(title)\r\n",
        "\r\n",
        "    print(title)\r\n",
        "    print(disp.confusion_matrix)\r\n",
        "\r\n",
        "print(classification_report(y_val, y_pred))\r\n",
        "\r\n",
        "plt.show()"
      ],
      "execution_count": 36,
      "outputs": [
        {
          "output_type": "stream",
          "text": [
            "/usr/local/lib/python3.6/dist-packages/matplotlib/text.py:1165: FutureWarning: elementwise comparison failed; returning scalar instead, but in the future will perform elementwise comparison\n",
            "  if s != self._text:\n"
          ],
          "name": "stderr"
        },
        {
          "output_type": "stream",
          "text": [
            "Confusion matrix, without normalization\n",
            "[[445   6]\n",
            " [ 18   1]]\n",
            "Normalized confusion matrix\n",
            "[[0.98669623 0.01330377]\n",
            " [0.94736842 0.05263158]]\n",
            "              precision    recall  f1-score   support\n",
            "\n",
            "           0       0.96      0.99      0.97       451\n",
            "           1       0.14      0.05      0.08        19\n",
            "\n",
            "    accuracy                           0.95       470\n",
            "   macro avg       0.55      0.52      0.53       470\n",
            "weighted avg       0.93      0.95      0.94       470\n",
            "\n"
          ],
          "name": "stdout"
        },
        {
          "output_type": "stream",
          "text": [
            "/usr/local/lib/python3.6/dist-packages/matplotlib/text.py:1165: FutureWarning: elementwise comparison failed; returning scalar instead, but in the future will perform elementwise comparison\n",
            "  if s != self._text:\n"
          ],
          "name": "stderr"
        },
        {
          "output_type": "display_data",
          "data": {
            "image/png": "[encoded data removed]",
            "text/plain": [
              "<Figure size 432x288 with 2 Axes>"
            ]
          },
          "metadata": {
            "tags": [],
            "needs_background": "light"
          }
        },
        {
          "output_type": "display_data",
          "data": {
            "image/png": "[encoded data removed]",
            "text/plain": [
              "<Figure size 432x288 with 2 Axes>"
            ]
          },
          "metadata": {
            "tags": [],
            "needs_background": "light"
          }
        }
      ]
    },
    {
      "cell_type": "markdown",
      "metadata": {
        "id": "D1AtpHk0v-g7"
      },
      "source": [
        "Training & Validation with Random Forest"
      ]
    },
    {
      "cell_type": "code",
      "metadata": {
        "colab": {
          "base_uri": "https://localhost:8080/"
        },
        "id": "7_03qzArwA0a",
        "outputId": "aa302001-1fa2-44e0-bf9b-3a2ef3f60089"
      },
      "source": [
        "from sklearn.ensemble import RandomForestClassifier\r\n",
        "from sklearn.metrics import accuracy_score\r\n",
        "clf = RandomForestClassifier()\r\n",
        "clf.fit(X_val, y_val)"
      ],
      "execution_count": 37,
      "outputs": [
        {
          "output_type": "stream",
          "text": [
            "/usr/local/lib/python3.6/dist-packages/ipykernel_launcher.py:4: DataConversionWarning: A column-vector y was passed when a 1d array was expected. Please change the shape of y to (n_samples,), for example using ravel().\n",
            "  after removing the cwd from sys.path.\n"
          ],
          "name": "stderr"
        },
        {
          "output_type": "execute_result",
          "data": {
            "text/plain": [
              "RandomForestClassifier(bootstrap=True, ccp_alpha=0.0, class_weight=None,\n",
              "                       criterion='gini', max_depth=None, max_features='auto',\n",
              "                       max_leaf_nodes=None, max_samples=None,\n",
              "                       min_impurity_decrease=0.0, min_impurity_split=None,\n",
              "                       min_samples_leaf=1, min_samples_split=2,\n",
              "                       min_weight_fraction_leaf=0.0, n_estimators=100,\n",
              "                       n_jobs=None, oob_score=False, random_state=None,\n",
              "                       verbose=0, warm_start=False)"
            ]
          },
          "metadata": {
            "tags": []
          },
          "execution_count": 37
        }
      ]
    },
    {
      "cell_type": "code",
      "metadata": {
        "colab": {
          "base_uri": "https://localhost:8080/"
        },
        "id": "HVr1TeJswNCv",
        "outputId": "65a40f0c-c665-4a4f-d333-56eb4e321979"
      },
      "source": [
        "y_pred = clf.predict(X_train)\r\n",
        "print(\"Akurasi\", accuracy_score(y_train, y_pred))"
      ],
      "execution_count": 38,
      "outputs": [
        {
          "output_type": "stream",
          "text": [
            "Akurasi 0.9403832505322924\n"
          ],
          "name": "stdout"
        }
      ]
    },
    {
      "cell_type": "code",
      "metadata": {
        "colab": {
          "base_uri": "https://localhost:8080/"
        },
        "id": "Ohz4yvcuxoMU",
        "outputId": "92adae89-6b92-4865-c534-126e1d0459e3"
      },
      "source": [
        "from sklearn.ensemble import RandomForestClassifier\r\n",
        "from sklearn.metrics import accuracy_score\r\n",
        "clf = RandomForestClassifier()\r\n",
        "clf.fit(X_train, y_train)"
      ],
      "execution_count": 39,
      "outputs": [
        {
          "output_type": "stream",
          "text": [
            "/usr/local/lib/python3.6/dist-packages/ipykernel_launcher.py:4: DataConversionWarning: A column-vector y was passed when a 1d array was expected. Please change the shape of y to (n_samples,), for example using ravel().\n",
            "  after removing the cwd from sys.path.\n"
          ],
          "name": "stderr"
        },
        {
          "output_type": "execute_result",
          "data": {
            "text/plain": [
              "RandomForestClassifier(bootstrap=True, ccp_alpha=0.0, class_weight=None,\n",
              "                       criterion='gini', max_depth=None, max_features='auto',\n",
              "                       max_leaf_nodes=None, max_samples=None,\n",
              "                       min_impurity_decrease=0.0, min_impurity_split=None,\n",
              "                       min_samples_leaf=1, min_samples_split=2,\n",
              "                       min_weight_fraction_leaf=0.0, n_estimators=100,\n",
              "                       n_jobs=None, oob_score=False, random_state=None,\n",
              "                       verbose=0, warm_start=False)"
            ]
          },
          "metadata": {
            "tags": []
          },
          "execution_count": 39
        }
      ]
    },
    {
      "cell_type": "code",
      "metadata": {
        "colab": {
          "base_uri": "https://localhost:8080/"
        },
        "id": "IXJDUi6Rxpzw",
        "outputId": "9e868154-37b8-43df-9f96-91a1b5fb04ef"
      },
      "source": [
        "y_pred = clf.predict(X_val)\r\n",
        "print(\"Akurasi\", accuracy_score(y_val, y_pred))"
      ],
      "execution_count": 40,
      "outputs": [
        {
          "output_type": "stream",
          "text": [
            "Akurasi 0.9468085106382979\n"
          ],
          "name": "stdout"
        }
      ]
    },
    {
      "cell_type": "markdown",
      "metadata": {
        "id": "akoMTOT9z9zb"
      },
      "source": [
        "Confusion Matrix dari tebakan Validasi Random Forest"
      ]
    },
    {
      "cell_type": "code",
      "metadata": {
        "colab": {
          "base_uri": "https://localhost:8080/",
          "height": 938
        },
        "id": "zdh2dYEVz8iu",
        "outputId": "4fac2bf3-6cf9-42a8-9881-608247a2e64e"
      },
      "source": [
        "from sklearn.metrics import plot_confusion_matrix\r\n",
        "from sklearn.metrics import classification_report\r\n",
        "import matplotlib.pyplot as plt\r\n",
        "\r\n",
        "\r\n",
        "titles_options = [(\"Confusion matrix, without normalization\", None),\r\n",
        "                  (\"Normalized confusion matrix\", 'true')]\r\n",
        "for title, normalize in titles_options:\r\n",
        "    disp = plot_confusion_matrix(clf, X_val, y_val,\r\n",
        "                                 display_labels=y,\r\n",
        "                                 cmap=plt.cm.Blues,\r\n",
        "                                 normalize=normalize)\r\n",
        "    disp.ax_.set_title(title)\r\n",
        "\r\n",
        "    print(title)\r\n",
        "    print(disp.confusion_matrix)\r\n",
        "\r\n",
        "print(classification_report(y_val, y_pred))\r\n",
        "\r\n",
        "plt.show()"
      ],
      "execution_count": 41,
      "outputs": [
        {
          "output_type": "stream",
          "text": [
            "Confusion matrix, without normalization\n",
            "[[445   6]\n",
            " [ 19   0]]\n",
            "Normalized confusion matrix\n",
            "[[0.98669623 0.01330377]\n",
            " [1.         0.        ]]\n",
            "              precision    recall  f1-score   support\n",
            "\n",
            "           0       0.96      0.99      0.97       451\n",
            "           1       0.00      0.00      0.00        19\n",
            "\n",
            "    accuracy                           0.95       470\n",
            "   macro avg       0.48      0.49      0.49       470\n",
            "weighted avg       0.92      0.95      0.93       470\n",
            "\n"
          ],
          "name": "stdout"
        },
        {
          "output_type": "stream",
          "text": [
            "/usr/local/lib/python3.6/dist-packages/matplotlib/text.py:1165: FutureWarning: elementwise comparison failed; returning scalar instead, but in the future will perform elementwise comparison\n",
            "  if s != self._text:\n",
            "/usr/local/lib/python3.6/dist-packages/matplotlib/text.py:1165: FutureWarning: elementwise comparison failed; returning scalar instead, but in the future will perform elementwise comparison\n",
            "  if s != self._text:\n"
          ],
          "name": "stderr"
        },
        {
          "output_type": "display_data",
          "data": {
            "image/png": "[encoded data removed]",
            "text/plain": [
              "<Figure size 432x288 with 2 Axes>"
            ]
          },
          "metadata": {
            "tags": [],
            "needs_background": "light"
          }
        },
        {
          "output_type": "display_data",
          "data": {
            "image/png": "[encoded data removed]",
            "text/plain": [
              "<Figure size 432x288 with 2 Axes>"
            ]
          },
          "metadata": {
            "tags": [],
            "needs_background": "light"
          }
        }
      ]
    },
    {
      "cell_type": "markdown",
      "metadata": {
        "id": "8uKY_gK015YL"
      },
      "source": [
        "Testing data test"
      ]
    },
    {
      "cell_type": "code",
      "metadata": {
        "id": "cdhobVRE7sY3"
      },
      "source": [
        "from sklearn.decomposition import PCA\r\n",
        "\r\n",
        "pca_dtest = PCA(n_components=2)\r\n",
        "model_pcaTest = pca_dtest.fit_transform(x_test)\r\n",
        "\r\n",
        "model_pcaTest = pd.DataFrame(data = model_pcaTest, columns= ['PCA 1', 'PCA 2'])"
      ],
      "execution_count": 42,
      "outputs": []
    },
    {
      "cell_type": "code",
      "metadata": {
        "colab": {
          "base_uri": "https://localhost:8080/",
          "height": 198
        },
        "id": "SaZGtBIC8suf",
        "outputId": "73213be0-cded-4da4-f486-66d78c0d5699"
      },
      "source": [
        "model_pcaTest.head(5)"
      ],
      "execution_count": 43,
      "outputs": [
        {
          "output_type": "execute_result",
          "data": {
            "text/html": [
              "<div>\n",
              "<style scoped>\n",
              "    .dataframe tbody tr th:only-of-type {\n",
              "        vertical-align: middle;\n",
              "    }\n",
              "\n",
              "    .dataframe tbody tr th {\n",
              "        vertical-align: top;\n",
              "    }\n",
              "\n",
              "    .dataframe thead th {\n",
              "        text-align: right;\n",
              "    }\n",
              "</style>\n",
              "<table border=\"1\" class=\"dataframe\">\n",
              "  <thead>\n",
              "    <tr style=\"text-align: right;\">\n",
              "      <th></th>\n",
              "      <th>PCA 1</th>\n",
              "      <th>PCA 2</th>\n",
              "    </tr>\n",
              "  </thead>\n",
              "  <tbody>\n",
              "    <tr>\n",
              "      <th>0</th>\n",
              "      <td>0.191787</td>\n",
              "      <td>-0.253592</td>\n",
              "    </tr>\n",
              "    <tr>\n",
              "      <th>1</th>\n",
              "      <td>-0.190098</td>\n",
              "      <td>0.253651</td>\n",
              "    </tr>\n",
              "    <tr>\n",
              "      <th>2</th>\n",
              "      <td>0.531826</td>\n",
              "      <td>0.240136</td>\n",
              "    </tr>\n",
              "    <tr>\n",
              "      <th>3</th>\n",
              "      <td>0.077485</td>\n",
              "      <td>-0.414329</td>\n",
              "    </tr>\n",
              "    <tr>\n",
              "      <th>4</th>\n",
              "      <td>-0.580381</td>\n",
              "      <td>0.038073</td>\n",
              "    </tr>\n",
              "  </tbody>\n",
              "</table>\n",
              "</div>"
            ],
            "text/plain": [
              "      PCA 1     PCA 2\n",
              "0  0.191787 -0.253592\n",
              "1 -0.190098  0.253651\n",
              "2  0.531826  0.240136\n",
              "3  0.077485 -0.414329\n",
              "4 -0.580381  0.038073"
            ]
          },
          "metadata": {
            "tags": []
          },
          "execution_count": 43
        }
      ]
    },
    {
      "cell_type": "code",
      "metadata": {
        "colab": {
          "base_uri": "https://localhost:8080/"
        },
        "id": "wkILEWDq9Bsn",
        "outputId": "0315d4e4-56e2-47bd-d1f4-64904a86d127"
      },
      "source": [
        "len(model_pcaTest)"
      ],
      "execution_count": 44,
      "outputs": [
        {
          "output_type": "execute_result",
          "data": {
            "text/plain": [
              "498121"
            ]
          },
          "metadata": {
            "tags": []
          },
          "execution_count": 44
        }
      ]
    },
    {
      "cell_type": "markdown",
      "metadata": {
        "id": "xO_9nUP33QQA"
      },
      "source": [
        "Predicting using KNN"
      ]
    },
    {
      "cell_type": "markdown",
      "metadata": {
        "id": "uPx8TSYP2AUq"
      },
      "source": [
        "Predicting data test, and Import new label[fraud] to the data test"
      ]
    },
    {
      "cell_type": "code",
      "metadata": {
        "id": "YyTsCmhD9GMq"
      },
      "source": [
        "test_pred = knn_classifier.predict(model_pcaTest)"
      ],
      "execution_count": 45,
      "outputs": []
    },
    {
      "cell_type": "code",
      "metadata": {
        "id": "1pttBUKM_4vT"
      },
      "source": [
        "df_test['fraud'] = test_pred"
      ],
      "execution_count": 46,
      "outputs": []
    },
    {
      "cell_type": "code",
      "metadata": {
        "colab": {
          "base_uri": "https://localhost:8080/",
          "height": 427
        },
        "id": "txQCrQImADdW",
        "outputId": "9c582972-d54b-40e7-a09c-5af2dcaf150b"
      },
      "source": [
        "df_test"
      ],
      "execution_count": 47,
      "outputs": [
        {
          "output_type": "execute_result",
          "data": {
            "text/html": [
              "<div>\n",
              "<style scoped>\n",
              "    .dataframe tbody tr th:only-of-type {\n",
              "        vertical-align: middle;\n",
              "    }\n",
              "\n",
              "    .dataframe tbody tr th {\n",
              "        vertical-align: top;\n",
              "    }\n",
              "\n",
              "    .dataframe thead th {\n",
              "        text-align: right;\n",
              "    }\n",
              "</style>\n",
              "<table border=\"1\" class=\"dataframe\">\n",
              "  <thead>\n",
              "    <tr style=\"text-align: right;\">\n",
              "      <th></th>\n",
              "      <th>trustLevel</th>\n",
              "      <th>totalScanTimeInSeconds</th>\n",
              "      <th>grandTotal</th>\n",
              "      <th>lineItemVoids</th>\n",
              "      <th>scansWithoutRegistration</th>\n",
              "      <th>quantityModifications</th>\n",
              "      <th>scannedLineItemsPerSecond</th>\n",
              "      <th>valuePerSecond</th>\n",
              "      <th>lineItemVoidsPerPosition</th>\n",
              "      <th>fraud</th>\n",
              "    </tr>\n",
              "  </thead>\n",
              "  <tbody>\n",
              "    <tr>\n",
              "      <th>0</th>\n",
              "      <td>4</td>\n",
              "      <td>467</td>\n",
              "      <td>88.48</td>\n",
              "      <td>4</td>\n",
              "      <td>8</td>\n",
              "      <td>4</td>\n",
              "      <td>0.014989</td>\n",
              "      <td>0.189465</td>\n",
              "      <td>0.571429</td>\n",
              "      <td>0</td>\n",
              "    </tr>\n",
              "    <tr>\n",
              "      <th>1</th>\n",
              "      <td>3</td>\n",
              "      <td>1004</td>\n",
              "      <td>58.99</td>\n",
              "      <td>7</td>\n",
              "      <td>6</td>\n",
              "      <td>1</td>\n",
              "      <td>0.026892</td>\n",
              "      <td>0.058755</td>\n",
              "      <td>0.259259</td>\n",
              "      <td>0</td>\n",
              "    </tr>\n",
              "    <tr>\n",
              "      <th>2</th>\n",
              "      <td>1</td>\n",
              "      <td>162</td>\n",
              "      <td>14.00</td>\n",
              "      <td>4</td>\n",
              "      <td>5</td>\n",
              "      <td>4</td>\n",
              "      <td>0.006173</td>\n",
              "      <td>0.086420</td>\n",
              "      <td>4.000000</td>\n",
              "      <td>0</td>\n",
              "    </tr>\n",
              "    <tr>\n",
              "      <th>3</th>\n",
              "      <td>5</td>\n",
              "      <td>532</td>\n",
              "      <td>84.79</td>\n",
              "      <td>9</td>\n",
              "      <td>3</td>\n",
              "      <td>4</td>\n",
              "      <td>0.026316</td>\n",
              "      <td>0.159380</td>\n",
              "      <td>0.642857</td>\n",
              "      <td>0</td>\n",
              "    </tr>\n",
              "    <tr>\n",
              "      <th>4</th>\n",
              "      <td>5</td>\n",
              "      <td>890</td>\n",
              "      <td>42.16</td>\n",
              "      <td>4</td>\n",
              "      <td>0</td>\n",
              "      <td>0</td>\n",
              "      <td>0.021348</td>\n",
              "      <td>0.047371</td>\n",
              "      <td>0.210526</td>\n",
              "      <td>0</td>\n",
              "    </tr>\n",
              "    <tr>\n",
              "      <th>...</th>\n",
              "      <td>...</td>\n",
              "      <td>...</td>\n",
              "      <td>...</td>\n",
              "      <td>...</td>\n",
              "      <td>...</td>\n",
              "      <td>...</td>\n",
              "      <td>...</td>\n",
              "      <td>...</td>\n",
              "      <td>...</td>\n",
              "      <td>...</td>\n",
              "    </tr>\n",
              "    <tr>\n",
              "      <th>498116</th>\n",
              "      <td>4</td>\n",
              "      <td>783</td>\n",
              "      <td>59.10</td>\n",
              "      <td>2</td>\n",
              "      <td>2</td>\n",
              "      <td>0</td>\n",
              "      <td>0.012771</td>\n",
              "      <td>0.075479</td>\n",
              "      <td>0.200000</td>\n",
              "      <td>0</td>\n",
              "    </tr>\n",
              "    <tr>\n",
              "      <th>498117</th>\n",
              "      <td>1</td>\n",
              "      <td>278</td>\n",
              "      <td>98.90</td>\n",
              "      <td>9</td>\n",
              "      <td>5</td>\n",
              "      <td>4</td>\n",
              "      <td>0.050360</td>\n",
              "      <td>0.355755</td>\n",
              "      <td>0.642857</td>\n",
              "      <td>0</td>\n",
              "    </tr>\n",
              "    <tr>\n",
              "      <th>498118</th>\n",
              "      <td>3</td>\n",
              "      <td>300</td>\n",
              "      <td>5.41</td>\n",
              "      <td>6</td>\n",
              "      <td>6</td>\n",
              "      <td>4</td>\n",
              "      <td>0.030000</td>\n",
              "      <td>0.018033</td>\n",
              "      <td>0.666667</td>\n",
              "      <td>0</td>\n",
              "    </tr>\n",
              "    <tr>\n",
              "      <th>498119</th>\n",
              "      <td>2</td>\n",
              "      <td>1524</td>\n",
              "      <td>33.97</td>\n",
              "      <td>2</td>\n",
              "      <td>5</td>\n",
              "      <td>3</td>\n",
              "      <td>0.005906</td>\n",
              "      <td>0.022290</td>\n",
              "      <td>0.222222</td>\n",
              "      <td>0</td>\n",
              "    </tr>\n",
              "    <tr>\n",
              "      <th>498120</th>\n",
              "      <td>3</td>\n",
              "      <td>1456</td>\n",
              "      <td>56.97</td>\n",
              "      <td>11</td>\n",
              "      <td>7</td>\n",
              "      <td>2</td>\n",
              "      <td>0.019231</td>\n",
              "      <td>0.039128</td>\n",
              "      <td>0.392857</td>\n",
              "      <td>0</td>\n",
              "    </tr>\n",
              "  </tbody>\n",
              "</table>\n",
              "<p>498121 rows × 10 columns</p>\n",
              "</div>"
            ],
            "text/plain": [
              "        trustLevel  totalScanTimeInSeconds  ...  lineItemVoidsPerPosition  fraud\n",
              "0                4                     467  ...                  0.571429      0\n",
              "1                3                    1004  ...                  0.259259      0\n",
              "2                1                     162  ...                  4.000000      0\n",
              "3                5                     532  ...                  0.642857      0\n",
              "4                5                     890  ...                  0.210526      0\n",
              "...            ...                     ...  ...                       ...    ...\n",
              "498116           4                     783  ...                  0.200000      0\n",
              "498117           1                     278  ...                  0.642857      0\n",
              "498118           3                     300  ...                  0.666667      0\n",
              "498119           2                    1524  ...                  0.222222      0\n",
              "498120           3                    1456  ...                  0.392857      0\n",
              "\n",
              "[498121 rows x 10 columns]"
            ]
          },
          "metadata": {
            "tags": []
          },
          "execution_count": 47
        }
      ]
    },
    {
      "cell_type": "code",
      "metadata": {
        "id": "jraacnopAD5w"
      },
      "source": [
        "df_test.to_csv('tebakan.csv')"
      ],
      "execution_count": 48,
      "outputs": []
    },
    {
      "cell_type": "code",
      "metadata": {
        "colab": {
          "base_uri": "https://localhost:8080/",
          "height": 427
        },
        "id": "brPiUrYjAU-4",
        "outputId": "6eeb4e42-2d54-49d1-b555-a32d458389f7"
      },
      "source": [
        "df_test[df_test[\"fraud\"]==1]"
      ],
      "execution_count": 49,
      "outputs": [
        {
          "output_type": "execute_result",
          "data": {
            "text/html": [
              "<div>\n",
              "<style scoped>\n",
              "    .dataframe tbody tr th:only-of-type {\n",
              "        vertical-align: middle;\n",
              "    }\n",
              "\n",
              "    .dataframe tbody tr th {\n",
              "        vertical-align: top;\n",
              "    }\n",
              "\n",
              "    .dataframe thead th {\n",
              "        text-align: right;\n",
              "    }\n",
              "</style>\n",
              "<table border=\"1\" class=\"dataframe\">\n",
              "  <thead>\n",
              "    <tr style=\"text-align: right;\">\n",
              "      <th></th>\n",
              "      <th>trustLevel</th>\n",
              "      <th>totalScanTimeInSeconds</th>\n",
              "      <th>grandTotal</th>\n",
              "      <th>lineItemVoids</th>\n",
              "      <th>scansWithoutRegistration</th>\n",
              "      <th>quantityModifications</th>\n",
              "      <th>scannedLineItemsPerSecond</th>\n",
              "      <th>valuePerSecond</th>\n",
              "      <th>lineItemVoidsPerPosition</th>\n",
              "      <th>fraud</th>\n",
              "    </tr>\n",
              "  </thead>\n",
              "  <tbody>\n",
              "    <tr>\n",
              "      <th>10</th>\n",
              "      <td>3</td>\n",
              "      <td>714</td>\n",
              "      <td>94.29</td>\n",
              "      <td>8</td>\n",
              "      <td>7</td>\n",
              "      <td>0</td>\n",
              "      <td>0.016807</td>\n",
              "      <td>0.132059</td>\n",
              "      <td>0.666667</td>\n",
              "      <td>1</td>\n",
              "    </tr>\n",
              "    <tr>\n",
              "      <th>14</th>\n",
              "      <td>3</td>\n",
              "      <td>1196</td>\n",
              "      <td>83.77</td>\n",
              "      <td>11</td>\n",
              "      <td>10</td>\n",
              "      <td>0</td>\n",
              "      <td>0.004181</td>\n",
              "      <td>0.070042</td>\n",
              "      <td>2.200000</td>\n",
              "      <td>1</td>\n",
              "    </tr>\n",
              "    <tr>\n",
              "      <th>50</th>\n",
              "      <td>3</td>\n",
              "      <td>1087</td>\n",
              "      <td>40.46</td>\n",
              "      <td>1</td>\n",
              "      <td>10</td>\n",
              "      <td>0</td>\n",
              "      <td>0.017479</td>\n",
              "      <td>0.037222</td>\n",
              "      <td>0.052632</td>\n",
              "      <td>1</td>\n",
              "    </tr>\n",
              "    <tr>\n",
              "      <th>84</th>\n",
              "      <td>3</td>\n",
              "      <td>1277</td>\n",
              "      <td>26.15</td>\n",
              "      <td>0</td>\n",
              "      <td>8</td>\n",
              "      <td>0</td>\n",
              "      <td>0.008614</td>\n",
              "      <td>0.020478</td>\n",
              "      <td>0.000000</td>\n",
              "      <td>1</td>\n",
              "    </tr>\n",
              "    <tr>\n",
              "      <th>102</th>\n",
              "      <td>3</td>\n",
              "      <td>1077</td>\n",
              "      <td>86.33</td>\n",
              "      <td>6</td>\n",
              "      <td>10</td>\n",
              "      <td>0</td>\n",
              "      <td>0.002786</td>\n",
              "      <td>0.080158</td>\n",
              "      <td>2.000000</td>\n",
              "      <td>1</td>\n",
              "    </tr>\n",
              "    <tr>\n",
              "      <th>...</th>\n",
              "      <td>...</td>\n",
              "      <td>...</td>\n",
              "      <td>...</td>\n",
              "      <td>...</td>\n",
              "      <td>...</td>\n",
              "      <td>...</td>\n",
              "      <td>...</td>\n",
              "      <td>...</td>\n",
              "      <td>...</td>\n",
              "      <td>...</td>\n",
              "    </tr>\n",
              "    <tr>\n",
              "      <th>497950</th>\n",
              "      <td>3</td>\n",
              "      <td>1709</td>\n",
              "      <td>64.66</td>\n",
              "      <td>7</td>\n",
              "      <td>8</td>\n",
              "      <td>0</td>\n",
              "      <td>0.009362</td>\n",
              "      <td>0.037835</td>\n",
              "      <td>0.437500</td>\n",
              "      <td>1</td>\n",
              "    </tr>\n",
              "    <tr>\n",
              "      <th>497968</th>\n",
              "      <td>3</td>\n",
              "      <td>1191</td>\n",
              "      <td>69.48</td>\n",
              "      <td>4</td>\n",
              "      <td>6</td>\n",
              "      <td>0</td>\n",
              "      <td>0.001679</td>\n",
              "      <td>0.058338</td>\n",
              "      <td>2.000000</td>\n",
              "      <td>1</td>\n",
              "    </tr>\n",
              "    <tr>\n",
              "      <th>498036</th>\n",
              "      <td>3</td>\n",
              "      <td>1115</td>\n",
              "      <td>12.44</td>\n",
              "      <td>2</td>\n",
              "      <td>7</td>\n",
              "      <td>0</td>\n",
              "      <td>0.008072</td>\n",
              "      <td>0.011157</td>\n",
              "      <td>0.222222</td>\n",
              "      <td>1</td>\n",
              "    </tr>\n",
              "    <tr>\n",
              "      <th>498039</th>\n",
              "      <td>3</td>\n",
              "      <td>1377</td>\n",
              "      <td>87.61</td>\n",
              "      <td>6</td>\n",
              "      <td>2</td>\n",
              "      <td>0</td>\n",
              "      <td>0.007988</td>\n",
              "      <td>0.063624</td>\n",
              "      <td>0.545455</td>\n",
              "      <td>1</td>\n",
              "    </tr>\n",
              "    <tr>\n",
              "      <th>498100</th>\n",
              "      <td>3</td>\n",
              "      <td>1151</td>\n",
              "      <td>11.37</td>\n",
              "      <td>3</td>\n",
              "      <td>1</td>\n",
              "      <td>0</td>\n",
              "      <td>0.021720</td>\n",
              "      <td>0.009878</td>\n",
              "      <td>0.120000</td>\n",
              "      <td>1</td>\n",
              "    </tr>\n",
              "  </tbody>\n",
              "</table>\n",
              "<p>10262 rows × 10 columns</p>\n",
              "</div>"
            ],
            "text/plain": [
              "        trustLevel  totalScanTimeInSeconds  ...  lineItemVoidsPerPosition  fraud\n",
              "10               3                     714  ...                  0.666667      1\n",
              "14               3                    1196  ...                  2.200000      1\n",
              "50               3                    1087  ...                  0.052632      1\n",
              "84               3                    1277  ...                  0.000000      1\n",
              "102              3                    1077  ...                  2.000000      1\n",
              "...            ...                     ...  ...                       ...    ...\n",
              "497950           3                    1709  ...                  0.437500      1\n",
              "497968           3                    1191  ...                  2.000000      1\n",
              "498036           3                    1115  ...                  0.222222      1\n",
              "498039           3                    1377  ...                  0.545455      1\n",
              "498100           3                    1151  ...                  0.120000      1\n",
              "\n",
              "[10262 rows x 10 columns]"
            ]
          },
          "metadata": {
            "tags": []
          },
          "execution_count": 49
        }
      ]
    }
  ]
}